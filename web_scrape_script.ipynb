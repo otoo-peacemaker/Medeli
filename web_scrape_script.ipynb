{
 "cells": [
  {
   "cell_type": "code",
   "execution_count": 2,
   "metadata": {},
   "outputs": [],
   "source": [
    "import pandas as pd\n",
    "import numpy as np\n",
    "from bs4 import BeautifulSoup\n",
    "import requests"
   ]
  },
  {
   "cell_type": "code",
   "execution_count": 82,
   "metadata": {},
   "outputs": [],
   "source": [
    "drugs = pd.DataFrame(columns=['drug_name','drug_price','pic_url'])"
   ]
  },
  {
   "cell_type": "code",
   "execution_count": 85,
   "metadata": {},
   "outputs": [
    {
     "data": {
      "text/html": [
       "<div>\n",
       "<style scoped>\n",
       "    .dataframe tbody tr th:only-of-type {\n",
       "        vertical-align: middle;\n",
       "    }\n",
       "\n",
       "    .dataframe tbody tr th {\n",
       "        vertical-align: top;\n",
       "    }\n",
       "\n",
       "    .dataframe thead th {\n",
       "        text-align: right;\n",
       "    }\n",
       "</style>\n",
       "<table border=\"1\" class=\"dataframe\">\n",
       "  <thead>\n",
       "    <tr style=\"text-align: right;\">\n",
       "      <th></th>\n",
       "      <th>drug_name</th>\n",
       "      <th>drug_price</th>\n",
       "      <th>pic_url</th>\n",
       "    </tr>\n",
       "  </thead>\n",
       "  <tbody>\n",
       "    <tr>\n",
       "      <th>0</th>\n",
       "      <td>Pei Mei Natural Vitamin C Serum.</td>\n",
       "      <td>₦ 1,480</td>\n",
       "      <td>https://ng.jumia.is/unsafe/fit-in/300x300/filt...</td>\n",
       "    </tr>\n",
       "    <tr>\n",
       "      <th>1</th>\n",
       "      <td>Habetong Aloe Vera Soothing/Moisturizing Sunbu...</td>\n",
       "      <td>₦ 1,680</td>\n",
       "      <td>https://ng.jumia.is/unsafe/fit-in/300x300/filt...</td>\n",
       "    </tr>\n",
       "    <tr>\n",
       "      <th>2</th>\n",
       "      <td>Aichun Beauty Black Facial Mask Whitening Comp...</td>\n",
       "      <td>₦ 1,680</td>\n",
       "      <td>https://ng.jumia.is/unsafe/fit-in/300x300/filt...</td>\n",
       "    </tr>\n",
       "  </tbody>\n",
       "</table>\n",
       "</div>"
      ],
      "text/plain": [
       "                                           drug_name drug_price  \\\n",
       "0                   Pei Mei Natural Vitamin C Serum.    ₦ 1,480   \n",
       "1  Habetong Aloe Vera Soothing/Moisturizing Sunbu...    ₦ 1,680   \n",
       "2  Aichun Beauty Black Facial Mask Whitening Comp...    ₦ 1,680   \n",
       "\n",
       "                                             pic_url  \n",
       "0  https://ng.jumia.is/unsafe/fit-in/300x300/filt...  \n",
       "1  https://ng.jumia.is/unsafe/fit-in/300x300/filt...  \n",
       "2  https://ng.jumia.is/unsafe/fit-in/300x300/filt...  "
      ]
     },
     "execution_count": 85,
     "metadata": {},
     "output_type": "execute_result"
    }
   ],
   "source": [
    "page = requests.get('https://www.jumia.com.ng/mlp-the-beauty-shop-deals/?tag=CP_UN182--Merch_73')\n",
    "soup = BeautifulSoup(page.content, 'html')\n",
    "cards = soup.find_all('article', class_ = \"prd _fb col c-prd\")\n",
    "for i, card in enumerate(cards):\n",
    "    drug_name = card.find('h3', class_ ='name').text\n",
    "    drug_price = card.find('div', class_='prc').text\n",
    "    pic_url = card.find('img')['data-src']\n",
    "    drugs.loc[i] = [drug_name, drug_price, pic_url]\n",
    "    if i > 100: break\n",
    "\n",
    "drugs.head(3)\n"
   ]
  },
  {
   "cell_type": "code",
   "execution_count": 86,
   "metadata": {},
   "outputs": [
    {
     "data": {
      "text/plain": [
       "40"
      ]
     },
     "execution_count": 86,
     "metadata": {},
     "output_type": "execute_result"
    }
   ],
   "source": [
    "len(drugs)"
   ]
  },
  {
   "cell_type": "code",
   "execution_count": 88,
   "metadata": {},
   "outputs": [],
   "source": [
    "drugs.to_csv('drugs_list')"
   ]
  },
  {
   "cell_type": "code",
   "execution_count": null,
   "metadata": {},
   "outputs": [],
   "source": []
  }
 ],
 "metadata": {
  "kernelspec": {
   "display_name": "Python 3.9.12 ('base')",
   "language": "python",
   "name": "python3"
  },
  "language_info": {
   "codemirror_mode": {
    "name": "ipython",
    "version": 3
   },
   "file_extension": ".py",
   "mimetype": "text/x-python",
   "name": "python",
   "nbconvert_exporter": "python",
   "pygments_lexer": "ipython3",
   "version": "3.9.12"
  },
  "orig_nbformat": 4,
  "vscode": {
   "interpreter": {
    "hash": "263930470851f494f0ed2879c35b57985588df20f9e529b86e97dd5eb9ddc466"
   }
  }
 },
 "nbformat": 4,
 "nbformat_minor": 2
}
